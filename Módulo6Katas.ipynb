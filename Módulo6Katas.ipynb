{
 "cells": [
  {
   "cell_type": "code",
   "execution_count": 4,
   "metadata": {},
   "outputs": [
    {
     "name": "stdout",
     "output_type": "stream",
     "text": [
      "['Mercurio', 'Venus', 'Tierra', 'Marte', 'Jupiter', 'Saturno', 'Urano', 'Nepruno']\n",
      "['Mercurio', 'Venus', 'Tierra', 'Marte', 'Jupiter', 'Saturno', 'Urano', 'Nepruno', 'Pluton']\n"
     ]
    }
   ],
   "source": [
    "#Lista de planetas\n",
    "\n",
    "planets = ['Mercurio', 'Venus', 'Tierra', 'Marte', 'Jupiter', 'Saturno', 'Urano', 'Nepruno']\n",
    "\n",
    "print(planets)\n",
    "\n",
    "planets.append('Pluton')\n",
    "\n",
    "print(planets)\n"
   ]
  },
  {
   "cell_type": "code",
   "execution_count": 15,
   "metadata": {},
   "outputs": [
    {
     "name": "stdout",
     "output_type": "stream",
     "text": [
      "los planetas más cercanos al sol desde Tierra son ['Mercurio', 'Venus']\n",
      "los planetas más alejados al sol desde Tierra son ['Marte', 'Jupiter', 'Saturno', 'Urano', 'Neptuno']\n"
     ]
    }
   ],
   "source": [
    "#Ejercicio 2, Slices\n",
    "\n",
    "planets = ['Mercurio', 'Venus', 'Tierra', 'Marte', 'Jupiter', 'Saturno', 'Urano', 'Neptuno']\n",
    "\n",
    "Inquiry = input('Con Inicial mayúscula, ingrese el nombre del planeta que desea')\n",
    "\n",
    "Inquiry_num = planets.index(Inquiry)\n",
    "\n",
    "cercanos = planets[0 : Inquiry_num]\n",
    "\n",
    "print ('los planetas más cercanos al sol desde', Inquiry, 'son', cercanos)\n",
    "\n",
    "lejanos = planets[Inquiry_num +1 : 8]\n",
    "\n",
    "print ('los planetas más alejados al sol desde', Inquiry, 'son', lejanos)\n"
   ]
  }
 ],
 "metadata": {
  "interpreter": {
   "hash": "aee8b7b246df8f9039afb4144a1f6fd8d2ca17a180786b69acc140d282b71a49"
  },
  "kernelspec": {
   "display_name": "Python 3.10.2 64-bit",
   "language": "python",
   "name": "python3"
  },
  "language_info": {
   "codemirror_mode": {
    "name": "ipython",
    "version": 3
   },
   "file_extension": ".py",
   "mimetype": "text/x-python",
   "name": "python",
   "nbconvert_exporter": "python",
   "pygments_lexer": "ipython3",
   "version": "3.10.2"
  },
  "orig_nbformat": 4
 },
 "nbformat": 4,
 "nbformat_minor": 2
}
