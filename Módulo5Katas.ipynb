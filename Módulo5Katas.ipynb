{
 "cells": [
  {
   "cell_type": "code",
   "execution_count": 6,
   "metadata": {},
   "outputs": [
    {
     "name": "stdout",
     "output_type": "stream",
     "text": [
      "En Kilómetros la distancia entre la tierra y jupiter es de: 628949330 Km\n",
      "En Millas, la distancia entre la tierra y jupiter es de: 390577534 mi\n"
     ]
    }
   ],
   "source": [
    "#calcular distancia entre planetas\n",
    "from math import ceil, floor \n",
    "dist_tierra = 149597870\n",
    "dist_jupiter = 778547200\n",
    "\n",
    "entre_planetas = dist_tierra - dist_jupiter\n",
    "entre_millas= entre_planetas * .621\n",
    "\n",
    "print ('En Kilómetros la distancia entre la tierra y jupiter es de: ' + str(abs(entre_planetas)) + ' Km')\n",
    "print ('En Millas, la distancia entre la tierra y jupiter es de: ' + str(abs(floor(entre_millas))) + ' mi')"
   ]
  },
  {
   "cell_type": "code",
   "execution_count": 7,
   "metadata": {},
   "outputs": [
    {
     "name": "stdout",
     "output_type": "stream",
     "text": [
      "1 Km\n",
      "1 mi\n"
     ]
    }
   ],
   "source": [
    "\n",
    "# Distancia entre planetas introduciendo la distancia al sol\n",
    "from math import ceil, floor \n",
    "Planeta1 = int(input('Introduce la distancia al sol del primer planeta:'))\n",
    "Planeta2 = int(input('Introduce la distancia al sol del segundo planeta: '))\n",
    "\n",
    "pla1_pla2 = Planeta1 - Planeta2\n",
    "pla1_pla2MI = pla1_pla2 * .621\n",
    "\n",
    "print (str(abs(pla1_pla2)) + ' Km')\n",
    "print (str(abs(floor(pla1_pla2MI))) + ' mi')\n",
    "\n"
   ]
  }
 ],
 "metadata": {
  "interpreter": {
   "hash": "aee8b7b246df8f9039afb4144a1f6fd8d2ca17a180786b69acc140d282b71a49"
  },
  "kernelspec": {
   "display_name": "Python 3.10.2 64-bit",
   "language": "python",
   "name": "python3"
  },
  "language_info": {
   "codemirror_mode": {
    "name": "ipython",
    "version": 3
   },
   "file_extension": ".py",
   "mimetype": "text/x-python",
   "name": "python",
   "nbconvert_exporter": "python",
   "pygments_lexer": "ipython3",
   "version": "3.10.2"
  },
  "orig_nbformat": 4
 },
 "nbformat": 4,
 "nbformat_minor": 2
}
