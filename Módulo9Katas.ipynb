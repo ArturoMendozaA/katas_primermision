{
 "cells": [
  {
   "cell_type": "code",
   "execution_count": 30,
   "metadata": {},
   "outputs": [
    {
     "name": "stdout",
     "output_type": "stream",
     "text": [
      "lectura promedio de los tanques es:  2.0 %\n",
      "No estan llenos\n"
     ]
    }
   ],
   "source": [
    "#primer intento\n",
    "#Uso de funciones\n",
    "ink1 = input('nivel del tanke 1 (0-100)')\n",
    "ink2 = input('nivel del tanke 2 (0-100)')\n",
    "ink3 = input('nivel del tanke 3 (0-100)')\n",
    "\n",
    "\n",
    "def tanke_lectura(tank1, tank2, tank3):\n",
    "    promedio_tank = (tank1 + tank2 + tank3)/3\n",
    "    print('lectura promedio de los tanques es: ', promedio_tank, '%')\n",
    "    if promedio_tank < 100:\n",
    "        print('No estan llenos')\n",
    "    else:\n",
    "        print('Tanques llenos')\n",
    "\n",
    "\n",
    "tanke_lectura(int(ink1), int(ink2), int(ink3))\n",
    "\n"
   ]
  },
  {
   "cell_type": "code",
   "execution_count": 54,
   "metadata": {},
   "outputs": [
    {
     "name": "stdout",
     "output_type": "stream",
     "text": [
      "Reporte de combustible:\n",
      "    Total Average: 35.666666666666664%\n",
      "    Main tank: 75%\n",
      "    External tank: 23%\n",
      "    Hydrogen tank: 9% \n",
      "    \n"
     ]
    }
   ],
   "source": [
    "#extrayendo la funcion promedio\n",
    "\n",
    "def promedio(valor):\n",
    "    total = sum(valor)\n",
    "    numero_lecturas = len(valor)\n",
    "    return total / numero_lecturas\n",
    "\n",
    "# Prueba\n",
    "promedio([345, 34, 4])\n",
    "\n",
    "# Actualiza la función\n",
    "def genera_reporte(tanque1, tanque2, tanque3):\n",
    "    return f\"\"\"Reporte de combustible:\n",
    "    Promedio total: {promedio([tanque1, tanque2, tanque3])}%\n",
    "    Tanque 1: {tanque1}%\n",
    "    Tanque 2: {tanque2}%\n",
    "    Tanque 3: {tanque3}% \n",
    "    \"\"\"\n",
    "\n",
    "\n",
    "print(genera_reporte(75, 23, 9))"
   ]
  },
  {
   "cell_type": "code",
   "execution_count": 55,
   "metadata": {},
   "outputs": [
    {
     "name": "stdout",
     "output_type": "stream",
     "text": [
      "Informe preciso:\n",
      "    Destino: marte \n",
      "    Tiempo total de viaje: 85 minutos\n",
      "    Combustible total: 105 galones  \n",
      "    tanque externo: 80 galones\n",
      "    tanque interno: 25 galones\n",
      "    \n"
     ]
    }
   ],
   "source": [
    "#Ejercicio 2\n",
    "#tiempo hasta destino, combustible, nombre del destino\n",
    "#informa hora de prelanzamiento, tiempo de vuelo, destino, tanque externo, tanque interno\n",
    "\n",
    "\n",
    "\n",
    "\n",
    "\n",
    "def datos_mision(prelanz_timempo, tiempo_vuelo, destino, texterno, tinterno):\n",
    "    return f\"\"\"Informe preciso:\n",
    "    Destino: {destino} \n",
    "    Tiempo total de viaje: {prelanz_timempo + tiempo_vuelo} minutos\n",
    "    Combustible total: {texterno + tinterno} galones  \n",
    "    tanque externo: {texterno} galones\n",
    "    tanque interno: {tinterno} galones\n",
    "    \"\"\"\n",
    "\n",
    "print(datos_mision(50, 35, 'marte', 80, 25))\n",
    "    "
   ]
  },
  {
   "cell_type": "code",
   "execution_count": 57,
   "metadata": {},
   "outputs": [
    {
     "name": "stdout",
     "output_type": "stream",
     "text": [
      "\n",
      "    Destino de la misión: luna\n",
      "    Tiempo de vuelo: 174 minutos\n",
      "    Combustible total: 1524 galones\n",
      "    \n",
      "    \n",
      " tanque1 lectura -> 535galones restantes\n",
      "\n",
      " tanque2 lectura -> 9galones restantes\n",
      "\n",
      " tanque3 lectura -> 980galones restantes\n",
      "\n"
     ]
    }
   ],
   "source": [
    "def datos_mision2( destino2, *tiempos, **tanques):\n",
    "\n",
    "    reporte_p = f\"\"\"\n",
    "    Destino de la misión: {destino2}\n",
    "    Tiempo de vuelo: {sum(tiempos)} minutos\n",
    "    Combustible total: {sum(tanques.values())} galones\n",
    "    \n",
    "    \"\"\"\n",
    "    for nombre_tanke, galones in tanques.items():\n",
    "        reporte_p += F\"\\n {nombre_tanke} lectura -> {galones}galones restantes\\n\"\n",
    "    return reporte_p\n",
    "\n",
    "\n",
    "\n",
    "\n",
    "print(datos_mision2('luna', 34, 35, 90, 15, tanque1 = 535, tanque2 =9, tanque3= 980))"
   ]
  }
 ],
 "metadata": {
  "interpreter": {
   "hash": "aee8b7b246df8f9039afb4144a1f6fd8d2ca17a180786b69acc140d282b71a49"
  },
  "kernelspec": {
   "display_name": "Python 3.10.2 64-bit",
   "language": "python",
   "name": "python3"
  },
  "language_info": {
   "codemirror_mode": {
    "name": "ipython",
    "version": 3
   },
   "file_extension": ".py",
   "mimetype": "text/x-python",
   "name": "python",
   "nbconvert_exporter": "python",
   "pygments_lexer": "ipython3",
   "version": "3.10.2"
  },
  "orig_nbformat": 4
 },
 "nbformat": 4,
 "nbformat_minor": 2
}
