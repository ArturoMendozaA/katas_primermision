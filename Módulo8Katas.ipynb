{
 "cells": [
  {
   "cell_type": "code",
   "execution_count": 13,
   "metadata": {},
   "outputs": [
    {
     "name": "stdout",
     "output_type": "stream",
     "text": [
      "mars tiene: 2 lunas\n",
      "El planeta mars tiene una circunferencia polar de: 6572\n"
     ]
    }
   ],
   "source": [
    "# Crear y modificar un diccionario\n",
    "\n",
    "planet = {'name' : 'mars', 'moons' : 2}\n",
    "\n",
    "print(f\"{planet['name']} tiene: {planet['moons']} lunas\")\n",
    "\n",
    "#agrega la circunferencia\n",
    "\n",
    "planet['circunferencia (km)'] = {'polar': 6572, 'equatorial': 6792}\n",
    "\n",
    "#nombre del planeta con su circunferencia polar\n",
    "\n",
    "print(f\"El planeta {planet['name']} tiene una circunferencia polar de: {planet['circunferencia (km)']['polar']}\")"
   ]
  },
  {
   "cell_type": "code",
   "execution_count": 26,
   "metadata": {},
   "outputs": [
    {
     "name": "stdout",
     "output_type": "stream",
     "text": [
      "Hay 12 planetas en el sistema solar\n",
      "There's 214 moons in the solar sistem\n",
      "El número promedio de lunas por planeta es de:  17.833333333333332\n",
      "12\n"
     ]
    }
   ],
   "source": [
    "#Planets and moons\n",
    "\n",
    "planet_moons = {\n",
    "    'mercury': 0,\n",
    "    'venus': 0,\n",
    "    'earth': 1,\n",
    "    'mars': 2,\n",
    "    'jupiter': 79,\n",
    "    'saturn': 82,\n",
    "    'uranus': 27,\n",
    "    'neptune': 14,\n",
    "    'pluto': 5,\n",
    "    'haumea': 2,\n",
    "    'makemake': 1,\n",
    "    'eris': 1\n",
    "}\n",
    "#numero de planetas\n",
    "planets = len(planet_moons)\n",
    "moons = 0\n",
    "#numero de lunas\n",
    "for value in planet_moons.values():\n",
    "    moons = moons + value\n",
    "\n",
    "print ('Hay',planets, 'planetas en el sistema solar')\n",
    "print (\"There's\", moons, 'moons in the solar sistem')\n",
    "\n",
    "#average = moons / planets\n",
    "\n",
    "print('El número promedio de lunas por planeta es de: ', moons /planets )\n",
    "\n"
   ]
  }
 ],
 "metadata": {
  "interpreter": {
   "hash": "aee8b7b246df8f9039afb4144a1f6fd8d2ca17a180786b69acc140d282b71a49"
  },
  "kernelspec": {
   "display_name": "Python 3.10.2 64-bit",
   "language": "python",
   "name": "python3"
  },
  "language_info": {
   "codemirror_mode": {
    "name": "ipython",
    "version": 3
   },
   "file_extension": ".py",
   "mimetype": "text/x-python",
   "name": "python",
   "nbconvert_exporter": "python",
   "pygments_lexer": "ipython3",
   "version": "3.10.2"
  },
  "orig_nbformat": 4
 },
 "nbformat": 4,
 "nbformat_minor": 2
}
