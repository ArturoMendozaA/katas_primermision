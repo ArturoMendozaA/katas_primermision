{
 "cells": [
  {
   "cell_type": "code",
   "execution_count": 21,
   "metadata": {},
   "outputs": [
    {
     "name": "stdout",
     "output_type": "stream",
     "text": [
      "asteroid velocity within safe limits\n"
     ]
    }
   ],
   "source": [
    "# Programa de monitoreo asteroidal\n",
    "velocidad_del_asteroide_kms = 49\n",
    "velocidad_advertencia_kms = 25\n",
    "\n",
    "if velocidad_del_asteroide_kms <= velocidad_advertencia_kms:\n",
    "    print('WARNING high speed asteroid ')\n",
    "else:\n",
    "    print('asteroid velocity within safe limits')\n"
   ]
  },
  {
   "cell_type": "code",
   "execution_count": 29,
   "metadata": {},
   "outputs": [
    {
     "name": "stdout",
     "output_type": "stream",
     "text": [
      "Luz de Asteroide potencialmente Visible\n"
     ]
    }
   ],
   "source": [
    "# rayo de luz\n",
    "velocidad_de_entrada_kms = 20\n",
    "entrada_visibility_kms = 20 \n",
    "\n",
    "if velocidad_de_entrada_kms >= entrada_visibility_kms:\n",
    "    print('Luz de Asteroide potencialmente Visible')\n",
    "\n",
    "else:\n",
    "    print('Invisible entrada de asteroide')"
   ]
  },
  {
   "cell_type": "code",
   "execution_count": 41,
   "metadata": {},
   "outputs": [
    {
     "name": "stdout",
     "output_type": "stream",
     "text": [
      "Posible rebote en la atmosfera\n"
     ]
    }
   ],
   "source": [
    "# ejercicio and / or\n",
    "entrada_visibility_kms = 20\n",
    "size_small_m = 25\n",
    "size_big_m = 1000\n",
    "actual_asize = 10000\n",
    "actual_velocity = 19\n",
    " \n",
    "\n",
    "\n",
    "if actual_asize < size_small_m and actual_velocity < entrada_visibility_kms:            #tamaño visibilidad\n",
    "    print('No hay nada que ver')\n",
    "elif actual_asize < size_small_m:                                                       #tamaño visibilidad\n",
    "    print('Luz de Asteroide potencialmente Visible')\n",
    "elif actual_asize >= size_small_m and actual_asize < size_big_m:                        #tamaño daño\n",
    "    print('Daño catastrofico') \n",
    "else:                                                                                   #tamaño daño\n",
    "    print('Posible rebote en la atmosfera?')\n",
    "    \n"
   ]
  },
  {
   "cell_type": "code",
   "execution_count": 22,
   "metadata": {},
   "outputs": [
    {
     "name": "stdout",
     "output_type": "stream",
     "text": [
      "Nada que ver\n"
     ]
    }
   ],
   "source": [
    "# Solución alterna rayo de luz (del notebook)\n",
    "if velocidad_de_entrada_kms > entrada_visibility_kms:\n",
    "    print('Luz visible')\n",
    "elif velocidad_de_entrada_kms == entrada_visibility_kms:\n",
    "    print('Luz visible')\n",
    "else:\n",
    "    print('Nada que ver')"
   ]
  }
 ],
 "metadata": {
  "interpreter": {
   "hash": "aee8b7b246df8f9039afb4144a1f6fd8d2ca17a180786b69acc140d282b71a49"
  },
  "kernelspec": {
   "display_name": "Python 3.10.2 64-bit",
   "language": "python",
   "name": "python3"
  },
  "language_info": {
   "codemirror_mode": {
    "name": "ipython",
    "version": 3
   },
   "file_extension": ".py",
   "mimetype": "text/x-python",
   "name": "python",
   "nbconvert_exporter": "python",
   "pygments_lexer": "ipython3",
   "version": "3.10.2"
  },
  "orig_nbformat": 4
 },
 "nbformat": 4,
 "nbformat_minor": 2
}
